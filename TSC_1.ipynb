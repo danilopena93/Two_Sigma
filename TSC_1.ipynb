{
 "cells": [
  {
   "cell_type": "code",
   "execution_count": 4,
   "metadata": {
    "collapsed": false
   },
   "outputs": [],
   "source": [
    "import numpy as np\n",
    "import pandas as pd\n",
    "from sklearn.ensemble import RandomForestClassifier \n",
    "from sklearn.cross_validation import train_test_split\n",
    "from sklearn.metrics import log_loss\n",
    "\n",
    "import matplotlib.pyplot as plt\n",
    "%matplotlib inline\n",
    "files = ['/test.json', '/train.json']\n",
    "direct = 'C:/Users/danil/Documents/GitHub/Two_Sigma_Connect/Two_Sigma_Connect'"
   ]
  },
  {
   "cell_type": "code",
   "execution_count": 10,
   "metadata": {
    "collapsed": false
   },
   "outputs": [
    {
     "data": {
      "text/html": [
       "<div>\n",
       "<table border=\"1\" class=\"dataframe\">\n",
       "  <thead>\n",
       "    <tr style=\"text-align: right;\">\n",
       "      <th></th>\n",
       "      <th>bathrooms</th>\n",
       "      <th>bedrooms</th>\n",
       "      <th>building_id</th>\n",
       "      <th>created</th>\n",
       "      <th>description</th>\n",
       "      <th>display_address</th>\n",
       "      <th>features</th>\n",
       "      <th>interest_level</th>\n",
       "      <th>latitude</th>\n",
       "      <th>listing_id</th>\n",
       "      <th>longitude</th>\n",
       "      <th>manager_id</th>\n",
       "      <th>photos</th>\n",
       "      <th>price</th>\n",
       "      <th>street_address</th>\n",
       "    </tr>\n",
       "  </thead>\n",
       "  <tbody>\n",
       "    <tr>\n",
       "      <th>10</th>\n",
       "      <td>1.5</td>\n",
       "      <td>3</td>\n",
       "      <td>53a5b119ba8f7b61d4e010512e0dfc85</td>\n",
       "      <td>2016-06-24 07:54:24</td>\n",
       "      <td>A Brand New 3 Bedroom 1.5 bath ApartmentEnjoy ...</td>\n",
       "      <td>Metropolitan Avenue</td>\n",
       "      <td>[]</td>\n",
       "      <td>medium</td>\n",
       "      <td>40.7145</td>\n",
       "      <td>7211212</td>\n",
       "      <td>-73.9425</td>\n",
       "      <td>5ba989232d0489da1b5f2c45f6688adc</td>\n",
       "      <td>[https://photos.renthop.com/2/7211212_1ed4542e...</td>\n",
       "      <td>3000</td>\n",
       "      <td>792 Metropolitan Avenue</td>\n",
       "    </tr>\n",
       "    <tr>\n",
       "      <th>10000</th>\n",
       "      <td>1.0</td>\n",
       "      <td>2</td>\n",
       "      <td>c5c8a357cba207596b04d1afd1e4f130</td>\n",
       "      <td>2016-06-12 12:19:27</td>\n",
       "      <td></td>\n",
       "      <td>Columbus Avenue</td>\n",
       "      <td>[Doorman, Elevator, Fitness Center, Cats Allow...</td>\n",
       "      <td>low</td>\n",
       "      <td>40.7947</td>\n",
       "      <td>7150865</td>\n",
       "      <td>-73.9667</td>\n",
       "      <td>7533621a882f71e25173b27e3139d83d</td>\n",
       "      <td>[https://photos.renthop.com/2/7150865_be3306c5...</td>\n",
       "      <td>5465</td>\n",
       "      <td>808 Columbus Avenue</td>\n",
       "    </tr>\n",
       "    <tr>\n",
       "      <th>100004</th>\n",
       "      <td>1.0</td>\n",
       "      <td>1</td>\n",
       "      <td>c3ba40552e2120b0acfc3cb5730bb2aa</td>\n",
       "      <td>2016-04-17 03:26:41</td>\n",
       "      <td>Top Top West Village location, beautiful Pre-w...</td>\n",
       "      <td>W 13 Street</td>\n",
       "      <td>[Laundry In Building, Dishwasher, Hardwood Flo...</td>\n",
       "      <td>high</td>\n",
       "      <td>40.7388</td>\n",
       "      <td>6887163</td>\n",
       "      <td>-74.0018</td>\n",
       "      <td>d9039c43983f6e564b1482b273bd7b01</td>\n",
       "      <td>[https://photos.renthop.com/2/6887163_de85c427...</td>\n",
       "      <td>2850</td>\n",
       "      <td>241 W 13 Street</td>\n",
       "    </tr>\n",
       "    <tr>\n",
       "      <th>100007</th>\n",
       "      <td>1.0</td>\n",
       "      <td>1</td>\n",
       "      <td>28d9ad350afeaab8027513a3e52ac8d5</td>\n",
       "      <td>2016-04-18 02:22:02</td>\n",
       "      <td>Building Amenities - Garage - Garden - fitness...</td>\n",
       "      <td>East 49th Street</td>\n",
       "      <td>[Hardwood Floors, No Fee]</td>\n",
       "      <td>low</td>\n",
       "      <td>40.7539</td>\n",
       "      <td>6888711</td>\n",
       "      <td>-73.9677</td>\n",
       "      <td>1067e078446a7897d2da493d2f741316</td>\n",
       "      <td>[https://photos.renthop.com/2/6888711_6e660cee...</td>\n",
       "      <td>3275</td>\n",
       "      <td>333 East 49th Street</td>\n",
       "    </tr>\n",
       "    <tr>\n",
       "      <th>100013</th>\n",
       "      <td>1.0</td>\n",
       "      <td>4</td>\n",
       "      <td>0</td>\n",
       "      <td>2016-04-28 01:32:41</td>\n",
       "      <td>Beautifully renovated 3 bedroom flex 4 bedroom...</td>\n",
       "      <td>West 143rd Street</td>\n",
       "      <td>[Pre-War]</td>\n",
       "      <td>low</td>\n",
       "      <td>40.8241</td>\n",
       "      <td>6934781</td>\n",
       "      <td>-73.9493</td>\n",
       "      <td>98e13ad4b495b9613cef886d79a6291f</td>\n",
       "      <td>[https://photos.renthop.com/2/6934781_1fa4b41a...</td>\n",
       "      <td>3350</td>\n",
       "      <td>500 West 143rd Street</td>\n",
       "    </tr>\n",
       "  </tbody>\n",
       "</table>\n",
       "</div>"
      ],
      "text/plain": [
       "        bathrooms  bedrooms                       building_id  \\\n",
       "10            1.5         3  53a5b119ba8f7b61d4e010512e0dfc85   \n",
       "10000         1.0         2  c5c8a357cba207596b04d1afd1e4f130   \n",
       "100004        1.0         1  c3ba40552e2120b0acfc3cb5730bb2aa   \n",
       "100007        1.0         1  28d9ad350afeaab8027513a3e52ac8d5   \n",
       "100013        1.0         4                                 0   \n",
       "\n",
       "                    created  \\\n",
       "10      2016-06-24 07:54:24   \n",
       "10000   2016-06-12 12:19:27   \n",
       "100004  2016-04-17 03:26:41   \n",
       "100007  2016-04-18 02:22:02   \n",
       "100013  2016-04-28 01:32:41   \n",
       "\n",
       "                                              description  \\\n",
       "10      A Brand New 3 Bedroom 1.5 bath ApartmentEnjoy ...   \n",
       "10000                                                       \n",
       "100004  Top Top West Village location, beautiful Pre-w...   \n",
       "100007  Building Amenities - Garage - Garden - fitness...   \n",
       "100013  Beautifully renovated 3 bedroom flex 4 bedroom...   \n",
       "\n",
       "            display_address  \\\n",
       "10      Metropolitan Avenue   \n",
       "10000       Columbus Avenue   \n",
       "100004          W 13 Street   \n",
       "100007     East 49th Street   \n",
       "100013    West 143rd Street   \n",
       "\n",
       "                                                 features interest_level  \\\n",
       "10                                                     []         medium   \n",
       "10000   [Doorman, Elevator, Fitness Center, Cats Allow...            low   \n",
       "100004  [Laundry In Building, Dishwasher, Hardwood Flo...           high   \n",
       "100007                          [Hardwood Floors, No Fee]            low   \n",
       "100013                                          [Pre-War]            low   \n",
       "\n",
       "        latitude  listing_id  longitude                        manager_id  \\\n",
       "10       40.7145     7211212   -73.9425  5ba989232d0489da1b5f2c45f6688adc   \n",
       "10000    40.7947     7150865   -73.9667  7533621a882f71e25173b27e3139d83d   \n",
       "100004   40.7388     6887163   -74.0018  d9039c43983f6e564b1482b273bd7b01   \n",
       "100007   40.7539     6888711   -73.9677  1067e078446a7897d2da493d2f741316   \n",
       "100013   40.8241     6934781   -73.9493  98e13ad4b495b9613cef886d79a6291f   \n",
       "\n",
       "                                                   photos  price  \\\n",
       "10      [https://photos.renthop.com/2/7211212_1ed4542e...   3000   \n",
       "10000   [https://photos.renthop.com/2/7150865_be3306c5...   5465   \n",
       "100004  [https://photos.renthop.com/2/6887163_de85c427...   2850   \n",
       "100007  [https://photos.renthop.com/2/6888711_6e660cee...   3275   \n",
       "100013  [https://photos.renthop.com/2/6934781_1fa4b41a...   3350   \n",
       "\n",
       "                 street_address  \n",
       "10      792 Metropolitan Avenue  \n",
       "10000       808 Columbus Avenue  \n",
       "100004          241 W 13 Street  \n",
       "100007     333 East 49th Street  \n",
       "100013    500 West 143rd Street  "
      ]
     },
     "execution_count": 10,
     "metadata": {},
     "output_type": "execute_result"
    }
   ],
   "source": [
    "df = pd.read_json(open(direct+files[1],'r'))\n",
    "df.head()"
   ]
  },
  {
   "cell_type": "code",
   "execution_count": 6,
   "metadata": {
    "collapsed": true
   },
   "outputs": [],
   "source": [
    "#Naive feature engineering\n",
    "df[\"num_photos\"] = df[\"photos\"].apply(len)\n",
    "df[\"num_features\"] = df[\"features\"].apply(len)\n",
    "df[\"num_description_words\"] = df[\"description\"].apply(lambda x: len(x.split(\" \")))\n",
    "df[\"created\"] = pd.to_datetime(df[\"created\"])\n",
    "df[\"created_year\"] = df[\"created\"].dt.year\n",
    "df[\"created_month\"] = df[\"created\"].dt.month\n",
    "df[\"created_day\"] = df[\"created\"].dt.day\n",
    "\n",
    "features_to_use = [\"bathrooms\", \"bedrooms\", \"latitude\", \"longitude\", \"price\",\n",
    "                   \"num_photos\", \"num_features\", \"num_description_words\",\n",
    "                   \"created_year\", \"created_month\", \"created_day\"]"
   ]
  },
  {
   "cell_type": "code",
   "execution_count": 7,
   "metadata": {
    "collapsed": true
   },
   "outputs": [],
   "source": [
    "#Basic encoding of 'manager_id' \n",
    "from sklearn import preprocessing\n",
    "\n",
    "lbl = preprocessing.LabelEncoder()\n",
    "lbl.fit(list(df['manager_id'].values))\n",
    "df['manager_id'] = lbl.transform(list(df['manager_id'].values))\n",
    "\n",
    "# let's add this feature\n",
    "features_to_use.append('manager_id')"
   ]
  },
  {
   "cell_type": "code",
   "execution_count": 8,
   "metadata": {
    "collapsed": true
   },
   "outputs": [],
   "source": [
    "#Split the dataset first to avoid leaking during the validation phase since \n",
    "#the columns contain data from the target?\n",
    "# Let's split the data\n",
    "X = df[features_to_use]\n",
    "y = df[\"interest_level\"]\n",
    "X_train, X_val, y_train, y_val = train_test_split(X, y, test_size=0.33)"
   ]
  },
  {
   "cell_type": "code",
   "execution_count": 9,
   "metadata": {
    "collapsed": false
   },
   "outputs": [
    {
     "name": "stdout",
     "output_type": "stream",
     "text": [
      "            high_frac  low_frac  medium_frac  count\n",
      "manager_id                                         \n",
      "3469         0.000000  0.500000     0.500000      2\n",
      "3470         0.000000  0.000000     1.000000      1\n",
      "3471         0.000000  1.000000     0.000000      1\n",
      "3472         0.666667  0.166667     0.166667      6\n",
      "3473         0.000000  1.000000     0.000000      1\n",
      "3475         0.200000  0.600000     0.200000      5\n",
      "3477         0.000000  1.000000     0.000000      4\n",
      "3478         0.000000  1.000000     0.000000      2\n",
      "3479         0.200000  0.800000     0.000000      5\n",
      "3480         0.011765  0.682353     0.305882     85\n"
     ]
    }
   ],
   "source": [
    "# compute fractions and count for each manager\n",
    "temp = pd.concat([X_train.manager_id,pd.get_dummies(y_train)], axis = 1).groupby('manager_id').mean()\n",
    "temp.columns = ['high_frac','low_frac', 'medium_frac']\n",
    "temp['count'] = X_train.groupby('manager_id').count().iloc[:,1]\n",
    "\n",
    "# remember the manager_ids look different because we encoded them in the previous step \n",
    "print(temp.tail(10))"
   ]
  },
  {
   "cell_type": "code",
   "execution_count": 11,
   "metadata": {
    "collapsed": false
   },
   "outputs": [
    {
     "name": "stdout",
     "output_type": "stream",
     "text": [
      "high_frac        0.077414\n",
      "low_frac         0.671708\n",
      "medium_frac      0.250879\n",
      "manager_skill    0.405706\n",
      "dtype: float64\n",
      "            high_frac  low_frac  medium_frac  count  manager_skill\n",
      "manager_id                                                        \n",
      "3469         0.077414  0.671708     0.250879      2       0.405706\n",
      "3470         0.077414  0.671708     0.250879      1       0.405706\n",
      "3471         0.077414  0.671708     0.250879      1       0.405706\n",
      "3472         0.077414  0.671708     0.250879      6       0.405706\n",
      "3473         0.077414  0.671708     0.250879      1       0.405706\n",
      "3475         0.077414  0.671708     0.250879      5       0.405706\n",
      "3477         0.077414  0.671708     0.250879      4       0.405706\n",
      "3478         0.077414  0.671708     0.250879      2       0.405706\n",
      "3479         0.077414  0.671708     0.250879      5       0.405706\n",
      "3480         0.011765  0.682353     0.305882     85       0.329412\n"
     ]
    }
   ],
   "source": [
    "# compute skill\n",
    "temp['manager_skill'] = temp['high_frac']*2 + temp['medium_frac']\n",
    "\n",
    "# get ixes for unranked managers...\n",
    "unranked_managers_ixes = temp['count']<20\n",
    "# ... and ranked ones\n",
    "ranked_managers_ixes = ~unranked_managers_ixes\n",
    "\n",
    "# compute mean values from ranked managers and assign them to unranked ones\n",
    "mean_values = temp.loc[ranked_managers_ixes, ['high_frac','low_frac', 'medium_frac','manager_skill']].mean()\n",
    "print(mean_values)\n",
    "temp.loc[unranked_managers_ixes,['high_frac','low_frac', 'medium_frac','manager_skill']] = mean_values.values\n",
    "print(temp.tail(10))"
   ]
  },
  {
   "cell_type": "code",
   "execution_count": 12,
   "metadata": {
    "collapsed": false
   },
   "outputs": [
    {
     "data": {
      "text/html": [
       "<div>\n",
       "<table border=\"1\" class=\"dataframe\">\n",
       "  <thead>\n",
       "    <tr style=\"text-align: right;\">\n",
       "      <th></th>\n",
       "      <th>bathrooms</th>\n",
       "      <th>bedrooms</th>\n",
       "      <th>latitude</th>\n",
       "      <th>longitude</th>\n",
       "      <th>price</th>\n",
       "      <th>num_photos</th>\n",
       "      <th>num_features</th>\n",
       "      <th>num_description_words</th>\n",
       "      <th>created_year</th>\n",
       "      <th>created_month</th>\n",
       "      <th>created_day</th>\n",
       "      <th>manager_id</th>\n",
       "      <th>high_frac</th>\n",
       "      <th>low_frac</th>\n",
       "      <th>medium_frac</th>\n",
       "      <th>count</th>\n",
       "      <th>manager_skill</th>\n",
       "    </tr>\n",
       "  </thead>\n",
       "  <tbody>\n",
       "    <tr>\n",
       "      <th>0</th>\n",
       "      <td>1.0</td>\n",
       "      <td>2</td>\n",
       "      <td>40.8028</td>\n",
       "      <td>-73.9648</td>\n",
       "      <td>3200</td>\n",
       "      <td>5</td>\n",
       "      <td>3</td>\n",
       "      <td>60</td>\n",
       "      <td>2016</td>\n",
       "      <td>4</td>\n",
       "      <td>19</td>\n",
       "      <td>844</td>\n",
       "      <td>0.077414</td>\n",
       "      <td>0.671708</td>\n",
       "      <td>0.250879</td>\n",
       "      <td>15</td>\n",
       "      <td>0.405706</td>\n",
       "    </tr>\n",
       "    <tr>\n",
       "      <th>1</th>\n",
       "      <td>1.0</td>\n",
       "      <td>1</td>\n",
       "      <td>40.7207</td>\n",
       "      <td>-73.9801</td>\n",
       "      <td>3485</td>\n",
       "      <td>1</td>\n",
       "      <td>4</td>\n",
       "      <td>23</td>\n",
       "      <td>2016</td>\n",
       "      <td>4</td>\n",
       "      <td>10</td>\n",
       "      <td>381</td>\n",
       "      <td>0.077414</td>\n",
       "      <td>0.671708</td>\n",
       "      <td>0.250879</td>\n",
       "      <td>5</td>\n",
       "      <td>0.405706</td>\n",
       "    </tr>\n",
       "    <tr>\n",
       "      <th>2</th>\n",
       "      <td>1.0</td>\n",
       "      <td>1</td>\n",
       "      <td>40.8465</td>\n",
       "      <td>-73.9349</td>\n",
       "      <td>1450</td>\n",
       "      <td>1</td>\n",
       "      <td>0</td>\n",
       "      <td>9</td>\n",
       "      <td>2016</td>\n",
       "      <td>5</td>\n",
       "      <td>25</td>\n",
       "      <td>3135</td>\n",
       "      <td>0.068925</td>\n",
       "      <td>0.683995</td>\n",
       "      <td>0.247079</td>\n",
       "      <td>1712</td>\n",
       "      <td>0.384930</td>\n",
       "    </tr>\n",
       "    <tr>\n",
       "      <th>3</th>\n",
       "      <td>2.0</td>\n",
       "      <td>2</td>\n",
       "      <td>40.7053</td>\n",
       "      <td>-74.0161</td>\n",
       "      <td>4850</td>\n",
       "      <td>6</td>\n",
       "      <td>12</td>\n",
       "      <td>163</td>\n",
       "      <td>2016</td>\n",
       "      <td>5</td>\n",
       "      <td>9</td>\n",
       "      <td>3135</td>\n",
       "      <td>0.068925</td>\n",
       "      <td>0.683995</td>\n",
       "      <td>0.247079</td>\n",
       "      <td>1712</td>\n",
       "      <td>0.384930</td>\n",
       "    </tr>\n",
       "    <tr>\n",
       "      <th>4</th>\n",
       "      <td>1.0</td>\n",
       "      <td>0</td>\n",
       "      <td>40.7439</td>\n",
       "      <td>-73.9971</td>\n",
       "      <td>2700</td>\n",
       "      <td>4</td>\n",
       "      <td>6</td>\n",
       "      <td>98</td>\n",
       "      <td>2016</td>\n",
       "      <td>4</td>\n",
       "      <td>11</td>\n",
       "      <td>1499</td>\n",
       "      <td>0.006110</td>\n",
       "      <td>0.910387</td>\n",
       "      <td>0.083503</td>\n",
       "      <td>491</td>\n",
       "      <td>0.095723</td>\n",
       "    </tr>\n",
       "  </tbody>\n",
       "</table>\n",
       "</div>"
      ],
      "text/plain": [
       "   bathrooms  bedrooms  latitude  longitude  price  num_photos  num_features  \\\n",
       "0        1.0         2   40.8028   -73.9648   3200           5             3   \n",
       "1        1.0         1   40.7207   -73.9801   3485           1             4   \n",
       "2        1.0         1   40.8465   -73.9349   1450           1             0   \n",
       "3        2.0         2   40.7053   -74.0161   4850           6            12   \n",
       "4        1.0         0   40.7439   -73.9971   2700           4             6   \n",
       "\n",
       "   num_description_words  created_year  created_month  created_day  \\\n",
       "0                     60          2016              4           19   \n",
       "1                     23          2016              4           10   \n",
       "2                      9          2016              5           25   \n",
       "3                    163          2016              5            9   \n",
       "4                     98          2016              4           11   \n",
       "\n",
       "   manager_id  high_frac  low_frac  medium_frac  count  manager_skill  \n",
       "0         844   0.077414  0.671708     0.250879     15       0.405706  \n",
       "1         381   0.077414  0.671708     0.250879      5       0.405706  \n",
       "2        3135   0.068925  0.683995     0.247079   1712       0.384930  \n",
       "3        3135   0.068925  0.683995     0.247079   1712       0.384930  \n",
       "4        1499   0.006110  0.910387     0.083503    491       0.095723  "
      ]
     },
     "execution_count": 12,
     "metadata": {},
     "output_type": "execute_result"
    }
   ],
   "source": [
    "# inner join to assign manager features to the managers in the training dataframe\n",
    "X_train = X_train.merge(temp.reset_index(),how='left', left_on='manager_id', right_on='manager_id')\n",
    "X_train.head()"
   ]
  },
  {
   "cell_type": "code",
   "execution_count": 13,
   "metadata": {
    "collapsed": false
   },
   "outputs": [
    {
     "data": {
      "text/html": [
       "<div>\n",
       "<table border=\"1\" class=\"dataframe\">\n",
       "  <thead>\n",
       "    <tr style=\"text-align: right;\">\n",
       "      <th></th>\n",
       "      <th>bathrooms</th>\n",
       "      <th>bedrooms</th>\n",
       "      <th>latitude</th>\n",
       "      <th>longitude</th>\n",
       "      <th>price</th>\n",
       "      <th>num_photos</th>\n",
       "      <th>num_features</th>\n",
       "      <th>num_description_words</th>\n",
       "      <th>created_year</th>\n",
       "      <th>created_month</th>\n",
       "      <th>created_day</th>\n",
       "      <th>manager_id</th>\n",
       "      <th>high_frac</th>\n",
       "      <th>low_frac</th>\n",
       "      <th>medium_frac</th>\n",
       "      <th>count</th>\n",
       "      <th>manager_skill</th>\n",
       "    </tr>\n",
       "  </thead>\n",
       "  <tbody>\n",
       "    <tr>\n",
       "      <th>0</th>\n",
       "      <td>1.0</td>\n",
       "      <td>2</td>\n",
       "      <td>40.7530</td>\n",
       "      <td>-73.9695</td>\n",
       "      <td>5195</td>\n",
       "      <td>9</td>\n",
       "      <td>5</td>\n",
       "      <td>245</td>\n",
       "      <td>2016</td>\n",
       "      <td>5</td>\n",
       "      <td>16</td>\n",
       "      <td>3128</td>\n",
       "      <td>0.077414</td>\n",
       "      <td>0.671708</td>\n",
       "      <td>0.250879</td>\n",
       "      <td>8.0</td>\n",
       "      <td>0.405706</td>\n",
       "    </tr>\n",
       "    <tr>\n",
       "      <th>1</th>\n",
       "      <td>1.0</td>\n",
       "      <td>0</td>\n",
       "      <td>40.7218</td>\n",
       "      <td>-73.8426</td>\n",
       "      <td>1400</td>\n",
       "      <td>0</td>\n",
       "      <td>1</td>\n",
       "      <td>28</td>\n",
       "      <td>2016</td>\n",
       "      <td>4</td>\n",
       "      <td>16</td>\n",
       "      <td>1035</td>\n",
       "      <td>0.077414</td>\n",
       "      <td>0.671708</td>\n",
       "      <td>0.250879</td>\n",
       "      <td>9.0</td>\n",
       "      <td>0.405706</td>\n",
       "    </tr>\n",
       "    <tr>\n",
       "      <th>2</th>\n",
       "      <td>2.0</td>\n",
       "      <td>2</td>\n",
       "      <td>40.7269</td>\n",
       "      <td>-73.9876</td>\n",
       "      <td>4450</td>\n",
       "      <td>12</td>\n",
       "      <td>3</td>\n",
       "      <td>40</td>\n",
       "      <td>2016</td>\n",
       "      <td>6</td>\n",
       "      <td>15</td>\n",
       "      <td>2291</td>\n",
       "      <td>0.077414</td>\n",
       "      <td>0.671708</td>\n",
       "      <td>0.250879</td>\n",
       "      <td>NaN</td>\n",
       "      <td>0.405706</td>\n",
       "    </tr>\n",
       "    <tr>\n",
       "      <th>3</th>\n",
       "      <td>1.0</td>\n",
       "      <td>2</td>\n",
       "      <td>40.7060</td>\n",
       "      <td>-74.0088</td>\n",
       "      <td>3050</td>\n",
       "      <td>9</td>\n",
       "      <td>18</td>\n",
       "      <td>149</td>\n",
       "      <td>2016</td>\n",
       "      <td>5</td>\n",
       "      <td>2</td>\n",
       "      <td>765</td>\n",
       "      <td>0.040000</td>\n",
       "      <td>0.760000</td>\n",
       "      <td>0.200000</td>\n",
       "      <td>25.0</td>\n",
       "      <td>0.280000</td>\n",
       "    </tr>\n",
       "    <tr>\n",
       "      <th>4</th>\n",
       "      <td>1.0</td>\n",
       "      <td>2</td>\n",
       "      <td>40.7514</td>\n",
       "      <td>-73.9862</td>\n",
       "      <td>3300</td>\n",
       "      <td>5</td>\n",
       "      <td>14</td>\n",
       "      <td>130</td>\n",
       "      <td>2016</td>\n",
       "      <td>4</td>\n",
       "      <td>19</td>\n",
       "      <td>3135</td>\n",
       "      <td>0.068925</td>\n",
       "      <td>0.683995</td>\n",
       "      <td>0.247079</td>\n",
       "      <td>1712.0</td>\n",
       "      <td>0.384930</td>\n",
       "    </tr>\n",
       "  </tbody>\n",
       "</table>\n",
       "</div>"
      ],
      "text/plain": [
       "   bathrooms  bedrooms  latitude  longitude  price  num_photos  num_features  \\\n",
       "0        1.0         2   40.7530   -73.9695   5195           9             5   \n",
       "1        1.0         0   40.7218   -73.8426   1400           0             1   \n",
       "2        2.0         2   40.7269   -73.9876   4450          12             3   \n",
       "3        1.0         2   40.7060   -74.0088   3050           9            18   \n",
       "4        1.0         2   40.7514   -73.9862   3300           5            14   \n",
       "\n",
       "   num_description_words  created_year  created_month  created_day  \\\n",
       "0                    245          2016              5           16   \n",
       "1                     28          2016              4           16   \n",
       "2                     40          2016              6           15   \n",
       "3                    149          2016              5            2   \n",
       "4                    130          2016              4           19   \n",
       "\n",
       "   manager_id  high_frac  low_frac  medium_frac   count  manager_skill  \n",
       "0        3128   0.077414  0.671708     0.250879     8.0       0.405706  \n",
       "1        1035   0.077414  0.671708     0.250879     9.0       0.405706  \n",
       "2        2291   0.077414  0.671708     0.250879     NaN       0.405706  \n",
       "3         765   0.040000  0.760000     0.200000    25.0       0.280000  \n",
       "4        3135   0.068925  0.683995     0.247079  1712.0       0.384930  "
      ]
     },
     "execution_count": 13,
     "metadata": {},
     "output_type": "execute_result"
    }
   ],
   "source": [
    "# add the features computed on the training dataset to the validation dataset\n",
    "X_val = X_val.merge(temp.reset_index(),how='left', left_on='manager_id', right_on='manager_id')\n",
    "new_manager_ixes = X_val['high_frac'].isnull()\n",
    "X_val.loc[new_manager_ixes,['high_frac','low_frac', 'medium_frac','manager_skill']] = mean_values.values\n",
    "X_val.head()"
   ]
  },
  {
   "cell_type": "code",
   "execution_count": 14,
   "metadata": {
    "collapsed": true
   },
   "outputs": [],
   "source": [
    "# add manager fractions and skills to the features to use\n",
    "features_to_use.extend(['high_frac','low_frac', 'medium_frac','manager_skill'])"
   ]
  },
  {
   "cell_type": "code",
   "execution_count": 15,
   "metadata": {
    "collapsed": true
   },
   "outputs": [],
   "source": [
    "#Train and validate a few random forest classifiers to see whether we can \n",
    "#improve performances with the additional feature"
   ]
  },
  {
   "cell_type": "code",
   "execution_count": 16,
   "metadata": {
    "collapsed": false
   },
   "outputs": [
    {
     "data": {
      "text/plain": [
       "0.63661407366062639"
      ]
     },
     "execution_count": 16,
     "metadata": {},
     "output_type": "execute_result"
    }
   ],
   "source": [
    "# features to use for this classifier == only basic numerical\n",
    "these_features = [f for f in features_to_use if f not in ['manager_id','high_frac','low_frac', 'medium_frac','manager_skill']]\n",
    "\n",
    "clf = RandomForestClassifier(n_estimators=1000)\n",
    "clf.fit(X_train[these_features], y_train)\n",
    "y_val_pred = clf.predict_proba(X_val[these_features])\n",
    "log_loss(y_val, y_val_pred)"
   ]
  },
  {
   "cell_type": "code",
   "execution_count": 17,
   "metadata": {
    "collapsed": false
   },
   "outputs": [
    {
     "data": {
      "text/plain": [
       "<matplotlib.axes._subplots.AxesSubplot at 0x29c66c93470>"
      ]
     },
     "execution_count": 17,
     "metadata": {},
     "output_type": "execute_result"
    },
    {
     "data": {
      "image/png": "[encoded data removed]",
      "text/plain": [
       "<matplotlib.figure.Figure at 0x29c66c93898>"
      ]
     },
     "metadata": {},
     "output_type": "display_data"
    }
   ],
   "source": [
    "# Let's visualize features importance, \n",
    "# price is the most important feature, followed by number of descriptive words, latitude and longitude\n",
    "pd.Series(index = these_features, data = clf.feature_importances_).sort_values().plot(kind = 'bar')"
   ]
  },
  {
   "cell_type": "code",
   "execution_count": 18,
   "metadata": {
    "collapsed": false
   },
   "outputs": [
    {
     "data": {
      "text/plain": [
       "0.63069183089420622"
      ]
     },
     "execution_count": 18,
     "metadata": {},
     "output_type": "execute_result"
    }
   ],
   "source": [
    "# add manager_id\n",
    "these_features = [f for f in features_to_use if f not in ['high_frac','low_frac', 'medium_frac','manager_skill']]\n",
    "\n",
    "clf = RandomForestClassifier(n_estimators=1000)\n",
    "clf.fit(X_train[these_features], y_train)\n",
    "y_val_pred = clf.predict_proba(X_val[these_features])\n",
    "log_loss(y_val, y_val_pred)"
   ]
  },
  {
   "cell_type": "code",
   "execution_count": 19,
   "metadata": {
    "collapsed": false
   },
   "outputs": [
    {
     "data": {
      "text/plain": [
       "0.63392896174566571"
      ]
     },
     "execution_count": 19,
     "metadata": {},
     "output_type": "execute_result"
    }
   ],
   "source": [
    "# no manager_id, use fractions and skill instad\n",
    "these_features = [f for f in features_to_use if f not in ['manager_id']]\n",
    "\n",
    "clf = RandomForestClassifier(n_estimators=1000)\n",
    "clf.fit(X_train[these_features], y_train)\n",
    "y_val_pred = clf.predict_proba(X_val[these_features])\n",
    "log_loss(y_val, y_val_pred)"
   ]
  },
  {
   "cell_type": "code",
   "execution_count": 20,
   "metadata": {
    "collapsed": false
   },
   "outputs": [
    {
     "data": {
      "text/plain": [
       "0.62186843670982339"
      ]
     },
     "execution_count": 20,
     "metadata": {},
     "output_type": "execute_result"
    }
   ],
   "source": [
    "# no manager_id, no skill, use fractions\n",
    "these_features = [f for f in features_to_use if f not in ['manager_id','manager_skill']]\n",
    "\n",
    "clf = RandomForestClassifier(n_estimators=1000)\n",
    "clf.fit(X_train[these_features], y_train)\n",
    "y_val_pred = clf.predict_proba(X_val[these_features])\n",
    "log_loss(y_val, y_val_pred)"
   ]
  },
  {
   "cell_type": "code",
   "execution_count": 21,
   "metadata": {
    "collapsed": false
   },
   "outputs": [
    {
     "data": {
      "text/plain": [
       "0.6160838180969288"
      ]
     },
     "execution_count": 21,
     "metadata": {},
     "output_type": "execute_result"
    }
   ],
   "source": [
    "# no manager_id, no fraction, use skill instead\n",
    "these_features = [f for f in features_to_use if f not in ['manager_id','high_frac','low_frac', 'medium_frac']]\n",
    "\n",
    "clf = RandomForestClassifier(n_estimators=1000)\n",
    "clf.fit(X_train[these_features], y_train)\n",
    "y_val_pred = clf.predict_proba(X_val[these_features])\n",
    "log_loss(y_val, y_val_pred)"
   ]
  },
  {
   "cell_type": "code",
   "execution_count": 22,
   "metadata": {
    "collapsed": false
   },
   "outputs": [
    {
     "data": {
      "text/plain": [
       "<matplotlib.axes._subplots.AxesSubplot at 0x29c66c704e0>"
      ]
     },
     "execution_count": 22,
     "metadata": {},
     "output_type": "execute_result"
    },
    {
     "data": {
      "image/png": "[encoded data removed]",
      "text/plain": [
       "<matplotlib.figure.Figure at 0x29c66c706a0>"
      ]
     },
     "metadata": {},
     "output_type": "display_data"
    }
   ],
   "source": [
    "# Let's visualize features importance\n",
    "pd.Series(index = these_features, data = clf.feature_importances_).sort_values().plot(kind = 'bar')"
   ]
  },
  {
   "cell_type": "code",
   "execution_count": null,
   "metadata": {
    "collapsed": true
   },
   "outputs": [],
   "source": []
  }
 ],
 "metadata": {
  "anaconda-cloud": {},
  "kernelspec": {
   "display_name": "Python [conda root]",
   "language": "python",
   "name": "conda-root-py"
  },
  "language_info": {
   "codemirror_mode": {
    "name": "ipython",
    "version": 3
   },
   "file_extension": ".py",
   "mimetype": "text/x-python",
   "name": "python",
   "nbconvert_exporter": "python",
   "pygments_lexer": "ipython3",
   "version": "3.5.2"
  }
 },
 "nbformat": 4,
 "nbformat_minor": 1
}
